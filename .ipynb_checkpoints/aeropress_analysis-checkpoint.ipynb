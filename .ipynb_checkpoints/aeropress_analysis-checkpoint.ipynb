{
 "cells": [
  {
   "cell_type": "markdown",
   "metadata": {},
   "source": [
    "# AeroPress Analysis\n",
    "\n",
    "## Introduction\n",
    "This notebook contains an analysis of my AeroPress brews over time.\n",
    "\n",
    "## Equipment\n",
    "\n",
    "All of the brews in this analysis were completed with the following equipment:\n",
    "* AeroPress coffee maker\n",
    "* Fellow Stagg EKG electric kettle\n",
    "* Baratza Sette 30 burr grinder\n",
    "\n",
    "## Data Descriptions\n",
    "\n",
    "### Timestamp\n",
    "\n",
    "* **`date`** [ yyyy-mm-dd ]  - *date of brewing*\n",
    "* **`time`** [ hh:mm AM/PM] - *time of brewing*\n",
    "\n",
    "### Brewing\n",
    "* **`method`** [ standard, inverted ] -  *AeroPress brewing method*\n",
    "* **`filter`** [ AeroPress paper, Able Disk Standard, Able Disk Fine ] - *type of filter used*\n",
    "* **`coffee_type`** - *name of coffee used*\n",
    "* **`roast`** [ 1-5 ] - *roast of coffee used; 1 is light and 5 is dark\n",
    "* **`grind_size`** [ 1-30 ] - *grind setting on Baratza Sette 30 grinder*\n",
    "* **`coffee_weight`** [ g ] - *weight in grams of ground coffee*\n",
    "* **`brew_water_weight`** [ g ] - *weight in grams of water used in brewing*\n",
    "* **`brew_water_temp`** [ F ] - *temperature in Fahrenheit of water used in brewing*\n",
    "* **`pour_duration`** [ sec ] - *duration in seconds of pour*\n",
    "* **`stir_start_time`** [ sec ] - *time elapsed at start of stir; default is 0*\n",
    "* **`stir_duration`** [ sec ] - *duration in seconds of stir*\n",
    "* **`push_start_time`** [ sec ] - *time elapsed at start of push*\n",
    "* **`push_duration`** [ sec ] - *duration in seconds of push*\n",
    "* **`overall_duration`** [ sec ] - *time elapsed between start of pour and end of push*\n",
    "* **`added_water_weight`** [ g ] - *weight in grams of water added after brewing*\n",
    "* **`added_water_temp`** [ F ] - *temperature in Fahrenheit of water added after brewing*\n",
    "\n",
    "### Evaluation\n",
    "\n",
    "* **`extraction`** [ 1-5 ] - *extraction; 1 is under extracted and 5 is over extracted*\n",
    "* **`body`** [ thin, medium, full ] - *body of the coffee*\n",
    "* **`rating`** [ 1-10 ] - *personal rating of coffee*\n",
    "* **`notes`** - *any notes about brewing or results*\n",
    "\n",
    "---"
   ]
  },
  {
   "cell_type": "markdown",
   "metadata": {},
   "source": [
    "# Code"
   ]
  },
  {
   "cell_type": "markdown",
   "metadata": {},
   "source": [
    "## Setting up environment"
   ]
  },
  {
   "cell_type": "code",
   "execution_count": 63,
   "metadata": {},
   "outputs": [],
   "source": [
    "# import libraries\n",
    "import pandas as pd, numpy as np, csv, re\n",
    "\n",
    "# edit Jupyter settings\n",
    "%config IPCompleter.greedy=True\n",
    "%config IPCompleter.use_jedi=False"
   ]
  },
  {
   "cell_type": "code",
   "execution_count": 15,
   "metadata": {},
   "outputs": [],
   "source": [
    "# define data fields\n",
    "data_fields = [\n",
    "    'date',\n",
    "    'time',\n",
    "    'method',\n",
    "    'filter',\n",
    "    'coffee_type',\n",
    "    'roast',\n",
    "    'grind_size',\n",
    "    'coffee_weight',\n",
    "    'brew_water_weight',\n",
    "    'brew_water_temp',\n",
    "    'pour_duration',\n",
    "    'stir_start_time',\n",
    "    'stir_duration',\n",
    "    'push_start_time',\n",
    "    'push_duration',\n",
    "    'overall_duration',\n",
    "    'added_water_weight',\n",
    "    'added_water_temp',\n",
    "    'extraction',\n",
    "    'body',\n",
    "    'rating',\n",
    "    'notes'\n",
    "]"
   ]
  },
  {
   "cell_type": "code",
   "execution_count": null,
   "metadata": {},
   "outputs": [],
   "source": [
    "# create csv to store data\n",
    "with open('aeropress_data.csv','w') as csv_file:\n",
    "    csv_writer = csv.DictWriter(csv_file,fieldnames=data_fields)\n",
    "    csv_writer.writeheader()"
   ]
  },
  {
   "cell_type": "markdown",
   "metadata": {},
   "source": [
    "## Recording data"
   ]
  },
  {
   "cell_type": "code",
   "execution_count": null,
   "metadata": {},
   "outputs": [],
   "source": [
    "# dictionary template for brew records\n",
    "brew_record_template = {\n",
    "    \"date\":,\n",
    "    \"time\":,\n",
    "    \"method\":,\n",
    "    \"filter\":,\n",
    "    \"coffee_type\":,\n",
    "    \"roast\":,\n",
    "    \"grind_size\":,\n",
    "    \"coffee_weight\":,\n",
    "    \"brew_water_weight\":,\n",
    "    \"brew_water_temp\":,\n",
    "    \"pour_duration\":,\n",
    "    \"stir_start_time\":,\n",
    "    \"stir_duration\":,\n",
    "    \"push_start_time\":,\n",
    "    \"push_duration\":,\n",
    "    \"overall_duration\":,\n",
    "    \"added_water_weight\":,\n",
    "    \"added_water_temp\":,\n",
    "    \"extraction\":,\n",
    "    \"body\":,\n",
    "    \"rating\":,\n",
    "    \"notes\": \n",
    "}"
   ]
  },
  {
   "cell_type": "code",
   "execution_count": 58,
   "metadata": {},
   "outputs": [],
   "source": [
    "# write brew data values to csv file and print results\n",
    "def write_brew_record(brew_record,csv_filepath='aeropress_data.csv'):\n",
    "    with open(csv_filepath,'a') as csv_file:\n",
    "        csv_writer = csv.DictWriter(csv_file,fieldnames=data_fields)\n",
    "        csv_writer.writerow(brew_record)\n",
    "        print(\"Wrote brew record to file:\\n\")\n",
    "        for field, data in brew_record.items():\n",
    "            print(f\"\\t{field.upper().replace('_',' ')}: {data}\")"
   ]
  },
  {
   "cell_type": "code",
   "execution_count": 57,
   "metadata": {},
   "outputs": [],
   "source": [
    "# convert 'mm:ss' string to seconds value\n",
    "def minsec(mins):\n",
    "    m,s = map(int,mins.split(':'))\n",
    "    return (m*60) + s\n",
    "\n",
    "# convert seconds value to 'mm:ss' string\n",
    "def secmins(secs):\n",
    "    m = secs//60\n",
    "    s = secs % 60\n",
    "    return f\"{m}:{s:02}\""
   ]
  },
  {
   "cell_type": "code",
   "execution_count": 65,
   "metadata": {},
   "outputs": [
    {
     "name": "stdout",
     "output_type": "stream",
     "text": [
      "Wrote brew record to file:\n",
      "\n",
      "\tDATE: 2020-09-25\n",
      "\tTIME: 09:00 AM\n",
      "\tMETHOD: inverted\n",
      "\tFILTER: AeroPress paper\n",
      "\tCOFFEE TYPE: Revelator Coffee Misfit\n",
      "\tROAST: 3\n",
      "\tGRIND SIZE: 26\n",
      "\tCOFFEE WEIGHT: 24\n",
      "\tBREW WATER WEIGHT: 180\n",
      "\tBREW WATER TEMP: 186\n",
      "\tPOUR DURATION: 10\n",
      "\tSTIR START TIME: 5\n",
      "\tSTIR DURATION: 15\n",
      "\tPUSH START TIME: 95\n",
      "\tPUSH DURATION: 40\n",
      "\tOVERALL DURATION: 135\n",
      "\tADDED WATER WEIGHT: 0\n",
      "\tADDED WATER TEMP: None\n",
      "\tEXTRACTION: 2\n",
      "\tBODY: medium\n",
      "\tRATING: 6\n",
      "\tNOTES: None\n"
     ]
    }
   ],
   "source": [
    "brew_record = {\n",
    "    \"date\":\"2020-09-25\",\n",
    "    \"time\":\"09:00 AM\",\n",
    "    \"method\":\"inverted\",\n",
    "    \"filter\":\"AeroPress paper\",\n",
    "    \"coffee_type\":\"Revelator Coffee Misfit\",\n",
    "    \"roast\":3,\n",
    "    \"grind_size\":26,\n",
    "    \"coffee_weight\":24,\n",
    "    \"brew_water_weight\":180,\n",
    "    \"brew_water_temp\":186,\n",
    "    \"pour_duration\":10,\n",
    "    \"stir_start_time\":5,\n",
    "    \"stir_duration\":15,\n",
    "    \"push_start_time\":minsec('1:35'),\n",
    "    \"push_duration\":40,\n",
    "    \"overall_duration\":minsec('2:15'),\n",
    "    \"added_water_weight\":0,\n",
    "    \"added_water_temp\":None,\n",
    "    \"extraction\":2,\n",
    "    \"body\":\"medium\",\n",
    "    \"rating\":6,\n",
    "    \"notes\":None \n",
    "}\n",
    "\n",
    "write_brew_record(brew_record)"
   ]
  },
  {
   "cell_type": "markdown",
   "metadata": {},
   "source": [
    "## Analyzing data"
   ]
  },
  {
   "cell_type": "code",
   "execution_count": 66,
   "metadata": {},
   "outputs": [
    {
     "data": {
      "text/html": [
       "<div>\n",
       "<style scoped>\n",
       "    .dataframe tbody tr th:only-of-type {\n",
       "        vertical-align: middle;\n",
       "    }\n",
       "\n",
       "    .dataframe tbody tr th {\n",
       "        vertical-align: top;\n",
       "    }\n",
       "\n",
       "    .dataframe thead th {\n",
       "        text-align: right;\n",
       "    }\n",
       "</style>\n",
       "<table border=\"1\" class=\"dataframe\">\n",
       "  <thead>\n",
       "    <tr style=\"text-align: right;\">\n",
       "      <th></th>\n",
       "      <th>date</th>\n",
       "      <th>time</th>\n",
       "      <th>method</th>\n",
       "      <th>filter</th>\n",
       "      <th>coffee_type</th>\n",
       "      <th>roast</th>\n",
       "      <th>grind_size</th>\n",
       "      <th>coffee_weight</th>\n",
       "      <th>brew_water_weight</th>\n",
       "      <th>brew_water_temp</th>\n",
       "      <th>...</th>\n",
       "      <th>stir_duration</th>\n",
       "      <th>push_start_time</th>\n",
       "      <th>push_duration</th>\n",
       "      <th>overall_duration</th>\n",
       "      <th>added_water_weight</th>\n",
       "      <th>added_water_temp</th>\n",
       "      <th>extraction</th>\n",
       "      <th>body</th>\n",
       "      <th>rating</th>\n",
       "      <th>notes</th>\n",
       "    </tr>\n",
       "  </thead>\n",
       "  <tbody>\n",
       "    <tr>\n",
       "      <th>0</th>\n",
       "      <td>2020-09-25</td>\n",
       "      <td>09:00 AM</td>\n",
       "      <td>inverted</td>\n",
       "      <td>AeroPress paper</td>\n",
       "      <td>Revelator Coffee Misfit</td>\n",
       "      <td>3</td>\n",
       "      <td>26</td>\n",
       "      <td>24</td>\n",
       "      <td>180</td>\n",
       "      <td>186</td>\n",
       "      <td>...</td>\n",
       "      <td>15</td>\n",
       "      <td>95</td>\n",
       "      <td>40</td>\n",
       "      <td>135</td>\n",
       "      <td>0</td>\n",
       "      <td>NaN</td>\n",
       "      <td>2</td>\n",
       "      <td>medium</td>\n",
       "      <td>6</td>\n",
       "      <td>NaN</td>\n",
       "    </tr>\n",
       "  </tbody>\n",
       "</table>\n",
       "<p>1 rows × 22 columns</p>\n",
       "</div>"
      ],
      "text/plain": [
       "         date      time    method           filter              coffee_type  \\\n",
       "0  2020-09-25  09:00 AM  inverted  AeroPress paper  Revelator Coffee Misfit   \n",
       "\n",
       "   roast  grind_size  coffee_weight  brew_water_weight  brew_water_temp  ...  \\\n",
       "0      3          26             24                180              186  ...   \n",
       "\n",
       "   stir_duration  push_start_time  push_duration  overall_duration  \\\n",
       "0             15               95             40               135   \n",
       "\n",
       "   added_water_weight  added_water_temp  extraction    body  rating notes  \n",
       "0                   0               NaN           2  medium       6   NaN  \n",
       "\n",
       "[1 rows x 22 columns]"
      ]
     },
     "execution_count": 66,
     "metadata": {},
     "output_type": "execute_result"
    }
   ],
   "source": [
    "brew_df = pd.read_csv('aeropress_data.csv')\n",
    "brew_df"
   ]
  }
 ],
 "metadata": {
  "kernelspec": {
   "display_name": "Python 3",
   "language": "python",
   "name": "python3"
  },
  "language_info": {
   "codemirror_mode": {
    "name": "ipython",
    "version": 3
   },
   "file_extension": ".py",
   "mimetype": "text/x-python",
   "name": "python",
   "nbconvert_exporter": "python",
   "pygments_lexer": "ipython3",
   "version": "3.6.10"
  }
 },
 "nbformat": 4,
 "nbformat_minor": 4
}
